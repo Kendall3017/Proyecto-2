{
  "nbformat": 4,
  "nbformat_minor": 0,
  "metadata": {
    "colab": {
      "provenance": [],
      "mount_file_id": "1vN7AhXurPLoret2FR8Vt0874jrEVMX87",
      "authorship_tag": "ABX9TyPT/640kRGPnjKwG9mdbI1l",
      "include_colab_link": true
    },
    "kernelspec": {
      "name": "python3",
      "display_name": "Python 3"
    },
    "language_info": {
      "name": "python"
    }
  },
  "cells": [
    {
      "cell_type": "markdown",
      "metadata": {
        "id": "view-in-github",
        "colab_type": "text"
      },
      "source": [
        "<a href=\"https://colab.research.google.com/github/Kendall3017/Proyecto-2/blob/main/Clasificaci%C3%B3n_asteroides.ipynb\" target=\"_parent\"><img src=\"https://colab.research.google.com/assets/colab-badge.svg\" alt=\"Open In Colab\"/></a>"
      ]
    },
    {
      "cell_type": "code",
      "source": [
        "# prompt: crea un codigo para identificar clasificar asteroides y detectar los mas pequenos usa relu y CNN usa las fotos /asteroids.jpg y /space.jpg  para hacer la clasificacion\n",
        "\n",
        "import tensorflow as tf\n",
        "from tensorflow.keras import layers, models\n",
        "import matplotlib.pyplot as plt\n",
        "import numpy as np\n",
        "from PIL import Image\n",
        "\n",
        "# Cargar y preprocesar las imágenes\n",
        "def cargar_y_preprocesar_imagen(ruta_imagen):\n",
        "  imagen = Image.open(ruta_imagen).resize((64, 64))\n",
        "  imagen_array = np.array(imagen) / 255.0  # Normalizar a [0, 1]\n",
        "  return imagen_array\n",
        "\n",
        "asteroides_imagenes = [cargar_y_preprocesar_imagen(\"/asteroids.jpg\")]\n",
        "espacio_imagenes = [cargar_y_preprocesar_imagen(\"/space.jpg\")]\n",
        "\n",
        "# Etiquetas: 0 para espacio, 1 para asteroide\n",
        "etiquetas_asteroides = [1] * len(asteroides_imagenes)\n",
        "etiquetas_espacio = [0] * len(espacio_imagenes)\n",
        "\n",
        "# Combinar datos y etiquetas\n",
        "imagenes = asteroides_imagenes + espacio_imagenes\n",
        "etiquetas = etiquetas_asteroides + etiquetas_espacio\n",
        "\n",
        "# Convertir a arrays de numpy\n",
        "imagenes = np.array(imagenes)\n",
        "etiquetas = np.array(etiquetas)\n",
        "\n",
        "# Crear el modelo CNN\n",
        "modelo = models.Sequential()\n",
        "modelo.add(layers.Conv2D(32, (3, 3), activation='relu', input_shape=(64, 64, 3)))\n",
        "modelo.add(layers.MaxPooling2D((2, 2)))\n",
        "modelo.add(layers.Conv2D(64, (3, 3), activation='relu'))\n",
        "modelo.add(layers.MaxPooling2D((2, 2)))\n",
        "modelo.add(layers.Conv2D(64, (3, 3), activation='relu'))\n",
        "modelo.add(layers.Flatten())\n",
        "modelo.add(layers.Dense(64, activation='relu'))\n",
        "modelo.add(layers.Dense(1, activation='sigmoid'))\n",
        "\n",
        "# Compilar el modelo\n",
        "modelo.compile(optimizer='adam',\n",
        "              loss='binary_crossentropy',\n",
        "              metrics=['accuracy'])\n",
        "\n",
        "# Entrenar el modelo\n",
        "modelo.fit(imagenes, etiquetas, epochs=10)\n",
        "\n",
        "# Función para predecir la clasificación de un asteroide\n",
        "def clasificar_asteroide(ruta_imagen):\n",
        "  imagen = cargar_y_preprocesar_imagen(ruta_imagen)\n",
        "  prediccion = modelo.predict(np.expand_dims(imagen, axis=0))[0][0]\n",
        "  if prediccion > 0.5:\n",
        "    return \"Asteroide\"\n",
        "  else:\n",
        "    return \"Espacio\"\n",
        "\n",
        "# Ejemplo de uso\n",
        "ruta_imagen_ejemplo = \"/asteroids.jpg\"\n",
        "clasificacion = clasificar_asteroide(ruta_imagen_ejemplo)\n",
        "print(f\"La imagen {ruta_imagen_ejemplo} se clasifica como: {clasificacion}\")\n",
        "\n",
        "# Detectar los asteroides más pequeños (implementar lógica adicional)\n",
        "# Ejemplo: Supongamos que el tamaño del asteroide se estima por la cantidad de píxeles blancos.\n",
        "def detectar_asteroides_pequenos(ruta_imagen):\n",
        "  # Implementar lógica para estimar el tamaño del asteroide.\n",
        "  # ...\n",
        "  imagen = Image.open(ruta_imagen).convert(\"L\")  # Convertir a escala de grises\n",
        "  imagen_array = np.array(imagen)\n",
        "  cantidad_pixeles_blancos = np.sum(imagen_array > 128)  # Ajustar el umbral si es necesario\n",
        "  if cantidad_pixeles_blancos < 1000: # Ejemplo de umbral\n",
        "    return \"Asteroide pequeño detectado\"\n",
        "  else:\n",
        "    return \"No se detectó asteroide pequeño\"\n",
        "\n",
        "\n",
        "ruta_imagen_ejemplo2 = \"/asteroids.jpg\"\n",
        "resultado_deteccion = detectar_asteroides_pequenos(ruta_imagen_ejemplo2)\n",
        "resultado_deteccion\n"
      ],
      "metadata": {
        "colab": {
          "base_uri": "https://localhost:8080/",
          "height": 417
        },
        "id": "dK-zZp3xyALz",
        "outputId": "fb6d4a4a-34c5-4e2b-99f7-0ba31af72495"
      },
      "execution_count": null,
      "outputs": [
        {
          "output_type": "stream",
          "name": "stdout",
          "text": [
            "Epoch 1/10\n",
            "\u001b[1m1/1\u001b[0m \u001b[32m━━━━━━━━━━━━━━━━━━━━\u001b[0m\u001b[37m\u001b[0m \u001b[1m2s\u001b[0m 2s/step - accuracy: 0.5000 - loss: 0.6813\n",
            "Epoch 2/10\n",
            "\u001b[1m1/1\u001b[0m \u001b[32m━━━━━━━━━━━━━━━━━━━━\u001b[0m\u001b[37m\u001b[0m \u001b[1m0s\u001b[0m 64ms/step - accuracy: 1.0000 - loss: 0.5944\n",
            "Epoch 3/10\n",
            "\u001b[1m1/1\u001b[0m \u001b[32m━━━━━━━━━━━━━━━━━━━━\u001b[0m\u001b[37m\u001b[0m \u001b[1m0s\u001b[0m 64ms/step - accuracy: 1.0000 - loss: 0.4741\n",
            "Epoch 4/10\n",
            "\u001b[1m1/1\u001b[0m \u001b[32m━━━━━━━━━━━━━━━━━━━━\u001b[0m\u001b[37m\u001b[0m \u001b[1m0s\u001b[0m 65ms/step - accuracy: 1.0000 - loss: 0.3502\n",
            "Epoch 5/10\n",
            "\u001b[1m1/1\u001b[0m \u001b[32m━━━━━━━━━━━━━━━━━━━━\u001b[0m\u001b[37m\u001b[0m \u001b[1m0s\u001b[0m 64ms/step - accuracy: 1.0000 - loss: 0.2249\n",
            "Epoch 6/10\n",
            "\u001b[1m1/1\u001b[0m \u001b[32m━━━━━━━━━━━━━━━━━━━━\u001b[0m\u001b[37m\u001b[0m \u001b[1m0s\u001b[0m 142ms/step - accuracy: 1.0000 - loss: 0.1034\n",
            "Epoch 7/10\n",
            "\u001b[1m1/1\u001b[0m \u001b[32m━━━━━━━━━━━━━━━━━━━━\u001b[0m\u001b[37m\u001b[0m \u001b[1m0s\u001b[0m 63ms/step - accuracy: 1.0000 - loss: 0.0346\n",
            "Epoch 8/10\n",
            "\u001b[1m1/1\u001b[0m \u001b[32m━━━━━━━━━━━━━━━━━━━━\u001b[0m\u001b[37m\u001b[0m \u001b[1m0s\u001b[0m 65ms/step - accuracy: 1.0000 - loss: 0.0087\n",
            "Epoch 9/10\n",
            "\u001b[1m1/1\u001b[0m \u001b[32m━━━━━━━━━━━━━━━━━━━━\u001b[0m\u001b[37m\u001b[0m \u001b[1m0s\u001b[0m 66ms/step - accuracy: 1.0000 - loss: 0.0022\n",
            "Epoch 10/10\n",
            "\u001b[1m1/1\u001b[0m \u001b[32m━━━━━━━━━━━━━━━━━━━━\u001b[0m\u001b[37m\u001b[0m \u001b[1m0s\u001b[0m 66ms/step - accuracy: 1.0000 - loss: 4.4345e-04\n",
            "\u001b[1m1/1\u001b[0m \u001b[32m━━━━━━━━━━━━━━━━━━━━\u001b[0m\u001b[37m\u001b[0m \u001b[1m0s\u001b[0m 113ms/step\n",
            "La imagen /asteroids.jpg se clasifica como: Asteroide\n"
          ]
        },
        {
          "output_type": "execute_result",
          "data": {
            "text/plain": [
              "'No se detectó asteroide pequeño'"
            ],
            "application/vnd.google.colaboratory.intrinsic+json": {
              "type": "string"
            }
          },
          "metadata": {},
          "execution_count": 10
        }
      ]
    }
  ]
}